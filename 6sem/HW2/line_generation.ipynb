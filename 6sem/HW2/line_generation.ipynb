{
 "cells": [
  {
   "cell_type": "code",
   "execution_count": 49,
   "metadata": {},
   "outputs": [],
   "source": [
    "import numpy as np\n",
    "import matplotlib.pyplot as plt\n",
    "import cv2\n",
    "from image_processing import read_image\n",
    "from hough_transform import fast_hough_transform, find_max_value\n",
    "from draw_line import draw_line, hough_transform"
   ]
  },
  {
   "cell_type": "code",
   "execution_count": 50,
   "metadata": {},
   "outputs": [],
   "source": [
    "from PIL import Image, ImageDraw\n",
    "\n",
    "# Создаем новое изображение размером 100x100\n",
    "image = Image.new(\"RGB\", (100, 100), \"black\")\n",
    "\n",
    "# Создаем объект ImageDraw для рисования на изображении\n",
    "draw = ImageDraw.Draw(image)\n",
    "\n",
    "# Рисуем горизонтальную линию на середине изображения\n",
    "draw.line((0, 50, 99, 50), fill=\"white\")\n",
    "\n",
    "# # Конвертируем изображение в оттенки серого\n",
    "grayscale_image = image.convert('L')\n",
    "\n",
    "# Сохраняем изображение\n",
    "image.save(\"images/horizontal_line.png\")"
   ]
  },
  {
   "cell_type": "code",
   "execution_count": 110,
   "metadata": {},
   "outputs": [],
   "source": [
    "pic_name = 'rgb1.png'"
   ]
  },
  {
   "cell_type": "code",
   "execution_count": 111,
   "metadata": {},
   "outputs": [
    {
     "name": "stdout",
     "output_type": "stream",
     "text": [
      "after final_img (40, 40)\n",
      "after fast_hough\n",
      "after find_max\n",
      "after draw 29 0\n"
     ]
    },
    {
     "data": {
      "image/png": "[encoded data removed]",
      "text/plain": [
       "<Figure size 432x288 with 1 Axes>"
      ]
     },
     "metadata": {
      "needs_background": "light"
     },
     "output_type": "display_data"
    }
   ],
   "source": [
    "FOLDER = 'images/'\n",
    "img_new = read_image(FOLDER, pic_name)\n",
    "# print('after read_iamge', img_new.shape)\n",
    "\n",
    "max_hft, obr, line_img= hough_transform(img_new, draw=1)\n",
    "# print('after hough_transform')\n",
    "# print(line_img[64])\n",
    "# print(img_new[76])"
   ]
  },
  {
   "cell_type": "code",
   "execution_count": 112,
   "metadata": {},
   "outputs": [],
   "source": [
    "def transform_pixels(array):\n",
    "    transformed_array = np.where(array != 0, 64, array)\n",
    "    return transformed_array"
   ]
  },
  {
   "cell_type": "code",
   "execution_count": 125,
   "metadata": {},
   "outputs": [],
   "source": [
    "from scipy.stats import mode\n",
    "def transform_rgb_pixels(array):\n",
    "    array_1d = array.flatten()\n",
    "    unique_values, counts = np.unique(array_1d, return_counts=True)\n",
    "    most_common_index = np.argmax(counts)\n",
    "    most_common_value = unique_values[most_common_index]\n",
    "    transformed_array = np.where(array != most_common_value, 64, array)\n",
    "    print(most_common_value)\n",
    "    return transformed_array"
   ]
  },
  {
   "cell_type": "code",
   "execution_count": 136,
   "metadata": {},
   "outputs": [
    {
     "name": "stdout",
     "output_type": "stream",
     "text": [
      "[219 219 219 219 219 219 219 219 219 219 219 219 219 219 219 219 219 219\n",
      " 219 219 219 219 219 219 219 219 219 219  64  64  64 219 219 219 219 219\n",
      " 219 219 219 219 219 219 219 219 219 219 219 219 219 219 219 219 219 219\n",
      " 219 219 219 219 219 219 219 219 219 219]\n"
     ]
    }
   ],
   "source": [
    "print(line_img[:,49])"
   ]
  },
  {
   "cell_type": "code",
   "execution_count": 138,
   "metadata": {},
   "outputs": [
    {
     "name": "stdout",
     "output_type": "stream",
     "text": [
      "[250 250 250 250 250 250 250 250 250 250 250 250 250 250 250 250 250 250\n",
      " 250 250 250 250 250 250 250 250 250 250 250 250 250 250 250 250 250 250\n",
      " 250 250 250 250 250 250 250 250 250 250 250 251 254 253 250 250 250 250\n",
      " 250 250 250 250 250 250 250 250 250 250]\n"
     ]
    }
   ],
   "source": [
    "print(img_new[29])"
   ]
  },
  {
   "cell_type": "code",
   "execution_count": 134,
   "metadata": {},
   "outputs": [
    {
     "name": "stdout",
     "output_type": "stream",
     "text": [
      "173\n",
      "[64 64 64 64 64 64 64 64 64 64 64 64 64 64 64 64 64 64 64 64 64 64 64 64\n",
      " 64 64 64 64 64 64 64 64 64 64 64 64 64 64 64 64 64 64 64 64 64 64 64 64\n",
      " 64 64 64 64 64 64 64 64 64 64 64 64 64 64 64 64]\n"
     ]
    }
   ],
   "source": [
    "print(transform_rgb_pixels(img_new)[29])"
   ]
  },
  {
   "cell_type": "code",
   "execution_count": 129,
   "metadata": {},
   "outputs": [],
   "source": [
    "def compare_transform(image1, image2, threshold=0.7):\n",
    "    # Сравнение изображений с помощью корреляции\n",
    "    correlation = cv2.matchTemplate(image1, image2, cv2.TM_CCOEFF_NORMED)[0][0]\n",
    "\n",
    "    # Проверка, превышает ли корреляция пороговое значение\n",
    "    return correlation >= threshold"
   ]
  },
  {
   "cell_type": "code",
   "execution_count": 130,
   "metadata": {},
   "outputs": [],
   "source": [
    "def compare_rgb_images_with_lines(image1, image2, threshold=0.7):\n",
    "    image1 = transform_rgb_pixels(image1)\n",
    "    # Сравнение изображений с помощью корреляции\n",
    "    correlation = cv2.matchTemplate(image1, image2, cv2.TM_CCOEFF_NORMED)[0][0]\n",
    "\n",
    "    # Проверка, превышает ли корреляция пороговое значение\n",
    "    return correlation >= threshold"
   ]
  },
  {
   "cell_type": "markdown",
   "metadata": {},
   "source": [
    "plt.imshow(line_img)"
   ]
  },
  {
   "cell_type": "code",
   "execution_count": 131,
   "metadata": {},
   "outputs": [],
   "source": [
    "def compare_images_with_lines(image1, image2, threshold=0.9):\n",
    "    image1 = transform_pixels(image1)\n",
    "    # Сравнение изображений с помощью корреляции\n",
    "    correlation = cv2.matchTemplate(image1, image2, cv2.TM_CCOEFF_NORMED)[0][0]\n",
    "\n",
    "    # Проверка, превышает ли корреляция пороговое значение\n",
    "    return correlation >= threshold"
   ]
  },
  {
   "cell_type": "code",
   "execution_count": 132,
   "metadata": {},
   "outputs": [
    {
     "name": "stdout",
     "output_type": "stream",
     "text": [
      "173\n"
     ]
    },
    {
     "data": {
      "text/plain": [
       "False"
      ]
     },
     "execution_count": 132,
     "metadata": {},
     "output_type": "execute_result"
    }
   ],
   "source": [
    "compare_rgb_images_with_lines(img_new, line_img)"
   ]
  },
  {
   "cell_type": "code",
   "execution_count": 18,
   "metadata": {},
   "outputs": [
    {
     "data": {
      "text/plain": [
       "<matplotlib.image.AxesImage at 0x12c74e5c0>"
      ]
     },
     "execution_count": 18,
     "metadata": {},
     "output_type": "execute_result"
    },
    {
     "data": {
      "image/png": "[encoded data removed]",
      "text/plain": [
       "<Figure size 432x288 with 1 Axes>"
      ]
     },
     "metadata": {
      "needs_background": "light"
     },
     "output_type": "display_data"
    }
   ],
   "source": [
    "from skimage.transform import hough_line\n",
    "from matplotlib import cm\n",
    "\n",
    "\n",
    "image = Image.open('images/horizontal_line.png')\n",
    "grayscale_image = np.asarray(image.convert('L'))\n",
    "\n",
    "h, theta, d = hough_line(grayscale_image)\n",
    "angle_step = 0.5 * np.diff(theta).mean()\n",
    "d_step = 0.5 * np.diff(d).mean()\n",
    "bounds = [np.rad2deg(theta[0] - angle_step),\n",
    "          np.rad2deg(theta[-1] + angle_step),\n",
    "          d[-1] + d_step, d[0] - d_step]\n",
    "hough = np.log(1 + h)\n",
    "plt.imshow(hough, extent=bounds, aspect=1 / 1.5)"
   ]
  },
  {
   "cell_type": "code",
   "execution_count": 28,
   "metadata": {},
   "outputs": [
    {
     "name": "stdout",
     "output_type": "stream",
     "text": [
      "[[  0.   0.   0. ... 224. 198.  83.]\n",
      " [  0.   0.   0. ... 254. 224. 339.]\n",
      " [  0.   0.   0. ... 366. 198.  83.]\n",
      " ...\n",
      " [  0.   0.   0. ... 198. 224. 339.]\n",
      " [  0.   0.   0. ... 224. 198.  83.]\n",
      " [  0.   0.   0. ... 198. 224. 339.]]\n"
     ]
    }
   ],
   "source": [
    "print(obr)"
   ]
  },
  {
   "cell_type": "code",
   "execution_count": 26,
   "metadata": {},
   "outputs": [
    {
     "name": "stdout",
     "output_type": "stream",
     "text": [
      "[[0. 0. 0. ... 0. 0. 0.]\n",
      " [0. 0. 0. ... 0. 0. 0.]\n",
      " [0. 0. 0. ... 0. 0. 0.]\n",
      " ...\n",
      " [0. 0. 0. ... 0. 0. 0.]\n",
      " [0. 0. 0. ... 0. 0. 0.]\n",
      " [0. 0. 0. ... 0. 0. 0.]]\n"
     ]
    }
   ],
   "source": [
    "print(hough)"
   ]
  },
  {
   "cell_type": "code",
   "execution_count": 48,
   "metadata": {},
   "outputs": [
    {
     "ename": "error",
     "evalue": "OpenCV(4.8.0) /Users/runner/work/opencv-python/opencv-python/opencv/modules/imgproc/src/templmatch.cpp:1164: error: (-215:Assertion failed) (depth == CV_8U || depth == CV_32F) && type == _templ.type() && _img.dims() <= 2 in function 'matchTemplate'\n",
     "output_type": "error",
     "traceback": [
      "\u001b[0;31m---------------------------------------------------------------------------\u001b[0m",
      "\u001b[0;31merror\u001b[0m                                     Traceback (most recent call last)",
      "Input \u001b[0;32mIn [48]\u001b[0m, in \u001b[0;36m<module>\u001b[0;34m\u001b[0m\n\u001b[0;32m----> 1\u001b[0m \u001b[43mcompare_transform\u001b[49m\u001b[43m(\u001b[49m\u001b[43mobr\u001b[49m\u001b[43m,\u001b[49m\u001b[43m \u001b[49m\u001b[43mhough\u001b[49m\u001b[43m)\u001b[49m\n",
      "Input \u001b[0;32mIn [31]\u001b[0m, in \u001b[0;36mcompare_transform\u001b[0;34m(image1, image2, threshold)\u001b[0m\n\u001b[1;32m      1\u001b[0m \u001b[38;5;28;01mdef\u001b[39;00m \u001b[38;5;21mcompare_transform\u001b[39m(image1, image2, threshold\u001b[38;5;241m=\u001b[39m\u001b[38;5;241m0.7\u001b[39m):\n\u001b[1;32m      2\u001b[0m     \u001b[38;5;66;03m# Сравнение изображений с помощью корреляции\u001b[39;00m\n\u001b[0;32m----> 3\u001b[0m     correlation \u001b[38;5;241m=\u001b[39m \u001b[43mcv2\u001b[49m\u001b[38;5;241;43m.\u001b[39;49m\u001b[43mmatchTemplate\u001b[49m\u001b[43m(\u001b[49m\u001b[43mimage1\u001b[49m\u001b[43m,\u001b[49m\u001b[43m \u001b[49m\u001b[43mimage2\u001b[49m\u001b[43m,\u001b[49m\u001b[43m \u001b[49m\u001b[43mcv2\u001b[49m\u001b[38;5;241;43m.\u001b[39;49m\u001b[43mTM_CCOEFF_NORMED\u001b[49m\u001b[43m)\u001b[49m[\u001b[38;5;241m0\u001b[39m][\u001b[38;5;241m0\u001b[39m]\n\u001b[1;32m      5\u001b[0m     \u001b[38;5;66;03m# Проверка, превышает ли корреляция пороговое значение\u001b[39;00m\n\u001b[1;32m      6\u001b[0m     \u001b[38;5;28;01mreturn\u001b[39;00m correlation \u001b[38;5;241m>\u001b[39m\u001b[38;5;241m=\u001b[39m threshold\n",
      "\u001b[0;31merror\u001b[0m: OpenCV(4.8.0) /Users/runner/work/opencv-python/opencv-python/opencv/modules/imgproc/src/templmatch.cpp:1164: error: (-215:Assertion failed) (depth == CV_8U || depth == CV_32F) && type == _templ.type() && _img.dims() <= 2 in function 'matchTemplate'\n"
     ]
    }
   ],
   "source": [
    "compare_transform(obr, hough)"
   ]
  },
  {
   "cell_type": "code",
   "execution_count": 21,
   "metadata": {},
   "outputs": [],
   "source": [
    "\n",
    "# Создаем новое изображение размером 100x100 с черным фоном\n",
    "image = Image.new(\"RGB\", (100, 100), \"black\")\n",
    "\n",
    "# Создаем объект ImageDraw для рисования на изображении\n",
    "draw = ImageDraw.Draw(image)\n",
    "\n",
    "# Рисуем вертикальные белые линии посередине изображения\n",
    "draw.line((25, 0, 25, 99), fill=\"white\")\n",
    "draw.line((75, 0, 75, 99), fill=\"white\")\n",
    "\n",
    "# Рисуем горизонтальные белые линии посередине изображения\n",
    "draw.line((0, 25, 99, 25), fill=\"white\")\n",
    "draw.line((0, 75, 99, 75), fill=\"white\")\n",
    "\n",
    "# # Конвертируем изображение в оттенки серого\n",
    "grayscale_image = image.convert('L')\n",
    "\n",
    "# Сохраняем изображение в папку images\n",
    "image.save(\"images/lines.png\")\n"
   ]
  },
  {
   "cell_type": "code",
   "execution_count": 24,
   "metadata": {},
   "outputs": [],
   "source": [
    "\n",
    "# Создаем новое изображение размером 10x500\n",
    "image = Image.new(\"RGB\", (10, 500), \"white\")\n",
    "\n",
    "# Создаем объект ImageDraw для рисования на изображении\n",
    "draw = ImageDraw.Draw(image)\n",
    "\n",
    "# Рисуем горизонтальную линию на середине изображения\n",
    "draw.line((0, 250, 9, 250), fill=\"black\")\n",
    "\n",
    "# Сохраняем изображение\n",
    "image.save(\"images/horizontal_line_10x500.png\")\n"
   ]
  },
  {
   "cell_type": "code",
   "execution_count": 25,
   "metadata": {},
   "outputs": [],
   "source": [
    "\n",
    "\n",
    "# Создаем новое изображение размером 3x3\n",
    "image = Image.new(\"RGB\", (3, 3), \"white\")\n",
    "\n",
    "# Создаем объект ImageDraw для рисования на изображении\n",
    "draw = ImageDraw.Draw(image)\n",
    "\n",
    "# Рисуем горизонтальную линию на середине изображения\n",
    "draw.line((0, 1, 2, 1), fill=\"black\")\n",
    "\n",
    "# Сохраняем изображение\n",
    "image.save(\"images/horizontal_line_3x3.png\")\n"
   ]
  },
  {
   "cell_type": "code",
   "execution_count": 26,
   "metadata": {},
   "outputs": [],
   "source": [
    "\n",
    "# Создаем новое изображение размером 3x3\n",
    "image = Image.new(\"RGB\", (3, 3), \"white\")\n",
    "\n",
    "# Создаем объект ImageDraw для рисования на изображении\n",
    "draw = ImageDraw.Draw(image)\n",
    "\n",
    "# Рисуем вертикальную линию на середине изображения\n",
    "draw.line((1, 0, 1, 2), fill=\"black\")\n",
    "\n",
    "# Сохраняем изображение\n",
    "image.save(\"images/vertical_line_3x3.png\")\n"
   ]
  },
  {
   "cell_type": "code",
   "execution_count": 27,
   "metadata": {},
   "outputs": [],
   "source": [
    "\n",
    "# Создаем новое изображение размером 500x10\n",
    "image = Image.new(\"RGB\", (500, 10), \"white\")\n",
    "\n",
    "# Создаем объект ImageDraw для рисования на изображении\n",
    "draw = ImageDraw.Draw(image)\n",
    "\n",
    "# Рисуем вертикальную линию на середине изображения\n",
    "draw.line((249, 0, 249, 9), fill=\"black\")\n",
    "\n",
    "# Сохраняем изображение\n",
    "image.save(\"images/vertical_line_500x10.png\")\n",
    "\n"
   ]
  }
 ],
 "metadata": {
  "kernelspec": {
   "display_name": "Python 3",
   "language": "python",
   "name": "python3"
  },
  "language_info": {
   "codemirror_mode": {
    "name": "ipython",
    "version": 3
   },
   "file_extension": ".py",
   "mimetype": "text/x-python",
   "name": "python",
   "nbconvert_exporter": "python",
   "pygments_lexer": "ipython3",
   "version": "3.10.2"
  }
 },
 "nbformat": 4,
 "nbformat_minor": 2
}
