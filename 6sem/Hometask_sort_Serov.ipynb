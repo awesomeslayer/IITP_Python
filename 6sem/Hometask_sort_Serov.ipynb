{
 "cells": [
  {
   "cell_type": "code",
   "execution_count": 96,
   "id": "fedd3c0a",
   "metadata": {},
   "outputs": [
    {
     "name": "stdout",
     "output_type": "stream",
     "text": [
      "[-1, 0, 1, 2, 3, 15, 99, 100]\n"
     ]
    }
   ],
   "source": [
    "a = [3, 1, 2, 0, -1, 15, 99, 100]\n",
    "\n",
    "print((lambda z: z if len(z) <= 1 else (lambda f: f(f))(lambda g: lambda l: l if len(l) <= 1 else g(g)([x for x in l[1:] if x <= l[0]]) + [l[0]] + g(g)([x for x in l[1:] if x > l[0]]))([x for x in z[1:] if x <= z[0]]) + [z[0]] + (lambda f: f(f))(lambda g: lambda l: l if len(l) <= 1 else g(g)([x for x in l[1:] if x <= l[0]]) + [l[0]] + g(g)([x for x in l[1:] if x > l[0]]))([x for x in z[1:] if x > z[0]]))(a))\n"
   ]
  },
  {
   "cell_type": "code",
   "execution_count": null,
   "id": "929c7b7d",
   "metadata": {},
   "outputs": [],
   "source": []
  }
 ],
 "metadata": {
  "kernelspec": {
   "display_name": "Python 3 (ipykernel)",
   "language": "python",
   "name": "python3"
  },
  "language_info": {
   "codemirror_mode": {
    "name": "ipython",
    "version": 3
   },
   "file_extension": ".py",
   "mimetype": "text/x-python",
   "name": "python",
   "nbconvert_exporter": "python",
   "pygments_lexer": "ipython3",
   "version": "3.11.4"
  }
 },
 "nbformat": 4,
 "nbformat_minor": 5
}
