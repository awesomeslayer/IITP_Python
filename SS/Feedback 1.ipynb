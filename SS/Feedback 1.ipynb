{
 "cells": [
  {
   "cell_type": "markdown",
   "id": "9d5b8d10",
   "metadata": {},
   "source": [
    "# Feedback session - 1\n",
    "\n",
    "Typical solution"
   ]
  },
  {
   "cell_type": "code",
   "execution_count": 1,
   "id": "82599f6f",
   "metadata": {},
   "outputs": [],
   "source": [
    "import numpy as np\n",
    "\n",
    "\n",
    "def convolution(M, S):\n",
    "    M_shape = M.shape\n",
    "    new_matrix = np.zeros(M_shape)\n",
    "\n",
    "    for i in range(M_shape[0] - 1):\n",
    "        for j in range(M_shape[1] - 1):\n",
    "            for l in [-1, 0, 1]:\n",
    "                for k in [-1, 0, 1]:\n",
    "                    new_matrix[i, j] += M[i + l, j + k] * S[l, k]\n",
    "\n",
    "    return new_matrix"
   ]
  },
  {
   "cell_type": "markdown",
   "id": "2cce66dc",
   "metadata": {},
   "source": [
    "3 Questions:\n",
    " - Correctness\n",
    " - Style\n",
    " - Performance"
   ]
  },
  {
   "cell_type": "markdown",
   "id": "9c309f93",
   "metadata": {},
   "source": [
    "## Correctness\n",
    "\n",
    "What happens then arguments are incorrect? Can we inform user about it?"
   ]
  },
  {
   "cell_type": "code",
   "execution_count": 2,
   "id": "8a4df941",
   "metadata": {},
   "outputs": [
    {
     "name": "stdout",
     "output_type": "stream",
     "text": [
      "Only 2d matrices are supported, 3d and 2d are provided\n"
     ]
    }
   ],
   "source": [
    "def convolution(M, S):\n",
    "    if M.ndim != 2 or S.ndim != 2:\n",
    "        raise ValueError(\n",
    "            f\"Only 2d matrices are supported, {M.ndim}d and {S.ndim}d are provided\"\n",
    "        )\n",
    "    if S.shape != (3, 3):\n",
    "        raise ValueError(\n",
    "            f\"Only (3,3) shaped kernels are supported, {S.shape} is provided\"\n",
    "        )\n",
    "\n",
    "    M_shape = M.shape\n",
    "    new_matrix = np.zeros(M_shape)\n",
    "\n",
    "    for i in range(M_shape[0] - 1):\n",
    "        for j in range(M_shape[1] - 1):\n",
    "            for l in [-1, 0, 1]:\n",
    "                for k in [-1, 0, 1]:\n",
    "                    new_matrix[i, j] += M[i + l, j + k] * S[l, k]\n",
    "\n",
    "    return new_matrix\n",
    "\n",
    "\n",
    "convolution(np.zeros((10, 10)), np.zeros((3, 3)))\n",
    "try:\n",
    "    convolution(np.zeros((10, 10, 10)), np.zeros((3, 3)))\n",
    "except ValueError as e:\n",
    "    print(e)"
   ]
  },
  {
   "cell_type": "markdown",
   "id": "e76a0f13",
   "metadata": {},
   "source": [
    "Are there any bugs in output? How could we have noticed this?"
   ]
  },
  {
   "cell_type": "code",
   "execution_count": 3,
   "id": "136dacf3",
   "metadata": {},
   "outputs": [
    {
     "data": {
      "text/plain": [
       "array([[3., 2., 1., 0., 0., 0., 0., 0., 1., 0.],\n",
       "       [2., 3., 2., 1., 0., 0., 0., 0., 0., 0.],\n",
       "       [1., 2., 3., 2., 1., 0., 0., 0., 0., 0.],\n",
       "       [0., 1., 2., 3., 2., 1., 0., 0., 0., 0.],\n",
       "       [0., 0., 1., 2., 3., 2., 1., 0., 0., 0.],\n",
       "       [0., 0., 0., 1., 2., 3., 2., 1., 0., 0.],\n",
       "       [0., 0., 0., 0., 1., 2., 3., 2., 1., 0.],\n",
       "       [0., 0., 0., 0., 0., 1., 2., 3., 2., 0.],\n",
       "       [1., 0., 0., 0., 0., 0., 1., 2., 3., 0.],\n",
       "       [0., 0., 0., 0., 0., 0., 0., 0., 0., 0.]])"
      ]
     },
     "execution_count": 3,
     "metadata": {},
     "output_type": "execute_result"
    }
   ],
   "source": [
    "convolution(np.identity(10), np.ones((3, 3)))"
   ]
  },
  {
   "cell_type": "code",
   "execution_count": 4,
   "id": "522c987d",
   "metadata": {},
   "outputs": [
    {
     "data": {
      "text/plain": [
       "array([[2., 1., 0., 0., 0., 0., 0., 0.],\n",
       "       [1., 2., 1., 0., 0., 0., 0., 0.],\n",
       "       [0., 1., 2., 1., 0., 0., 0., 0.],\n",
       "       [0., 0., 1., 2., 1., 0., 0., 0.],\n",
       "       [0., 0., 0., 1., 2., 1., 0., 0.],\n",
       "       [0., 0., 0., 0., 1., 2., 1., 0.],\n",
       "       [0., 0., 0., 0., 0., 1., 2., 1.],\n",
       "       [0., 0., 0., 0., 0., 0., 1., 2.]])"
      ]
     },
     "execution_count": 4,
     "metadata": {},
     "output_type": "execute_result"
    }
   ],
   "source": [
    "def convolution(M, S):\n",
    "    if M.ndim != 2 or S.ndim != 2:\n",
    "        raise ValueError(\n",
    "            f\"Only 2d matrices are supported, {M.ndim}d and {S.ndim}d are provided\"\n",
    "        )\n",
    "\n",
    "    new_matrix = np.zeros((M.shape[0] - S.shape[0], M.shape[1] - S.shape[1]))\n",
    "\n",
    "    for i in range(new_matrix.shape[0]):\n",
    "        for j in range(new_matrix.shape[1]):\n",
    "            for l in range(S.shape[0]):\n",
    "                for k in range(S.shape[1]):\n",
    "                    new_matrix[i, j] += M[i + l, j + k] * S[l, k]\n",
    "    return new_matrix\n",
    "\n",
    "\n",
    "convolution(np.identity(10), np.ones((2, 2)))"
   ]
  },
  {
   "cell_type": "markdown",
   "id": "49fb6fa9",
   "metadata": {},
   "source": [
    "## Style\n",
    "\n",
    "**Enforce PEP-8 compliance, don't do it just by hand!**\n",
    "\n",
    "Install black, consider pre-commit hooks for future projects. Ctrl+B fixes snippet!"
   ]
  },
  {
   "cell_type": "code",
   "execution_count": 5,
   "id": "f93192d2",
   "metadata": {},
   "outputs": [],
   "source": [
    "def convolution(M, S):\n",
    "    np_arr_M = np.asarray(M)\n",
    "    result = np.zeros(np_arr_M.shape, dtype = int)\n",
    "    v_ssize, h_ssize = S.shape\n",
    "    v_msize, h_msize = np_arr_M.shape\n",
    "    for i in range(v_msize):\n",
    "      for j in range(h_msize):\n",
    "        sum = 0\n",
    "        for l in range(v_ssize):\n",
    "          for k in range(h_ssize):\n",
    "            if (0 <= i + l - v_ssize//2 <= v_msize - 1) and (0 <= j + k - h_ssize//2 <= h_msize - 1):\n",
    "              sum += S[l][k] * np_arr_M[i + l - v_ssize//2][j + k - h_ssize//2]\n",
    "        result[i][j] = sum\n",
    "    return result"
   ]
  },
  {
   "cell_type": "markdown",
   "id": "27b9d3bf",
   "metadata": {},
   "source": [
    "Also, add description and consider changing variable names to more explicit ones.\n",
    "\n",
    "Use type annotations. They don't add overhead, they are just hints (aka suggestions)."
   ]
  },
  {
   "cell_type": "code",
   "execution_count": 6,
   "id": "61582f7b",
   "metadata": {},
   "outputs": [],
   "source": [
    "def convolve(matrix: np.array, kernel: np.array) -> np.array:\n",
    "    #\n",
    "    # Convolve 2-dimensional array by 2-dimensional kernel\n",
    "    # Parameters: \n",
    "    #   1) matrix - 2d-nparray, the object of convolution\n",
    "    #   2) kernel - 2d-nparray, the kernel of convolution, \n",
    "    #      kernel MUST have ODD height and wight\n",
    "    # Returns: 2d-nparray (the same size as matrix's) - the convolved matrix\n",
    "    #\n",
    "    \n",
    "    # kernel center\n",
    "    center = [x // 2 for x in kernel.shape] \n",
    "    # size of original matrix\n",
    "    size = matrix.shape\n",
    "    \n",
    "    result_size = [size[i] + 2 * center[i] for i in range(0,2)]\n",
    "    result = np.zeros(result_size)\n",
    "    \n",
    "    for (x, y), coeff in np.ndenumerate(kernel):\n",
    "        # coeff = kernel[x,y] - the cofficient of this addition\n",
    "        result[x : size[0] + x, y : size[1] + y] = np.add( \n",
    "            result[x : size[0] + x, y : size[1] + y], \n",
    "            matrix * coeff\n",
    "        ) \n",
    "    return result"
   ]
  },
  {
   "cell_type": "code",
   "execution_count": 7,
   "id": "b5d82cec",
   "metadata": {},
   "outputs": [
    {
     "name": "stdout",
     "output_type": "stream",
     "text": [
      "Help on function convolve in module __main__:\n",
      "\n",
      "convolve(matrix: <built-in function array>, kernel: <built-in function array>) -> <built-in function array>\n",
      "\n"
     ]
    }
   ],
   "source": [
    "help(convolve)"
   ]
  },
  {
   "cell_type": "markdown",
   "id": "519fb82e",
   "metadata": {},
   "source": [
    "## Performance\n",
    "\n",
    "How to calculate?"
   ]
  },
  {
   "cell_type": "code",
   "execution_count": 8,
   "id": "ce7c99cf",
   "metadata": {},
   "outputs": [
    {
     "name": "stdout",
     "output_type": "stream",
     "text": [
      "time.time - 0.0009992122650146484\n",
      "671 µs ± 26.9 µs per loop (mean ± std. dev. of 7 runs, 1,000 loops each)\n",
      "timeit.repeat - [0.6508356000000006, 0.6436627999999995, 0.6351870000000002, 0.6572277, 0.6414837999999996]\n",
      "\tminimum - 0.0006351870000000002\n"
     ]
    }
   ],
   "source": [
    "import random, time, timeit\n",
    "\n",
    "\n",
    "def function():\n",
    "    while x := random.randint(0, 1000):\n",
    "        pass\n",
    "\n",
    "\n",
    "# time.time\n",
    "start_time = time.time()\n",
    "function()\n",
    "total_time = time.time() - start_time\n",
    "print(f\"time.time - {total_time}\")\n",
    "\n",
    "# timeit magic\n",
    "%timeit function()\n",
    "\n",
    "# timeit\n",
    "t = timeit.repeat(\"function()\", \"from __main__ import function\", repeat=5, number=1000)\n",
    "print(f\"timeit.repeat - {t}\")\n",
    "print(f\"\\tminimum - {min(t) / 1000}\")"
   ]
  },
  {
   "cell_type": "markdown",
   "id": "103d89fb",
   "metadata": {},
   "source": [
    "Explain performance jumps."
   ]
  },
  {
   "cell_type": "code",
   "execution_count": 9,
   "id": "3bf600fc",
   "metadata": {},
   "outputs": [
    {
     "name": "stdout",
     "output_type": "stream",
     "text": [
      "25.8 ms ± 495 µs per loop (mean ± std. dev. of 7 runs, 10 loops each)\n"
     ]
    }
   ],
   "source": [
    "from scipy import signal\n",
    "from PIL import Image\n",
    "\n",
    "image = np.array(Image.open(\"image.jpg\").convert(\"L\"))\n",
    "kernel = np.array([[1, 2, 1], [0, 0, 0], [-1, -2, -1]])\n",
    "\n",
    "%timeit signal.convolve2d(image, kernel)"
   ]
  },
  {
   "cell_type": "code",
   "execution_count": 10,
   "id": "af7c34e8",
   "metadata": {},
   "outputs": [
    {
     "name": "stdout",
     "output_type": "stream",
     "text": [
      "6.3 s ± 36.8 ms per loop (mean ± std. dev. of 7 runs, 1 loop each)\n"
     ]
    }
   ],
   "source": [
    "def convolution(M, S):\n",
    "    R = np.zeros((M.shape[0] - S.shape[0] + 1, M.shape[1] - S.shape[1] + 1))\n",
    "    for i in range(R.shape[0]):\n",
    "        for j in range(R.shape[1]):\n",
    "            for k in range(S.shape[0]):\n",
    "                for l in range(S.shape[1]):\n",
    "                    R[i, j] += M[i + k, j + l] * S[k, l]\n",
    "    return R\n",
    "\n",
    "\n",
    "%timeit convolution(image, kernel)"
   ]
  },
  {
   "cell_type": "code",
   "execution_count": 11,
   "id": "ad6f5250",
   "metadata": {},
   "outputs": [
    {
     "name": "stdout",
     "output_type": "stream",
     "text": [
      "3.24 s ± 27.9 ms per loop (mean ± std. dev. of 7 runs, 1 loop each)\n"
     ]
    }
   ],
   "source": [
    "def convolution(M, S):\n",
    "    R = np.zeros((M.shape[0] - S.shape[0] + 1, M.shape[1] - S.shape[1] + 1))\n",
    "    for i in range(R.shape[0]):\n",
    "        for j in range(R.shape[1]):\n",
    "            R[i, j] = (M[i : i + S.shape[0], j : j + S.shape[1]] * S).sum()\n",
    "    return R\n",
    "\n",
    "\n",
    "%timeit convolution(image, kernel)"
   ]
  },
  {
   "cell_type": "code",
   "execution_count": 12,
   "id": "bba6c0a2",
   "metadata": {},
   "outputs": [
    {
     "name": "stdout",
     "output_type": "stream",
     "text": [
      "49.6 ms ± 235 µs per loop (mean ± std. dev. of 7 runs, 10 loops each)\n"
     ]
    }
   ],
   "source": [
    "def convolution(matrix1, matrix2):\n",
    "    # Get the dimensions of the input matrices\n",
    "    rows1, cols1 = matrix1.shape\n",
    "    rows2, cols2 = matrix2.shape\n",
    "\n",
    "    # Calculate the output matrix dimensions\n",
    "    output_rows = rows1 - rows2 + 1\n",
    "    output_cols = cols1 - cols2 + 1\n",
    "\n",
    "    # Flip the second matrix horizontally and vertically\n",
    "    flipped_matrix2 = np.flipud(np.fliplr(matrix2))\n",
    "\n",
    "    # Pad the input matrix\n",
    "    padded = np.pad(matrix1, ((rows2 - 1, 0), (cols2 - 1, 0)), mode=\"constant\")\n",
    "\n",
    "    # Create an array of sliding windows\n",
    "    windows = np.lib.stride_tricks.sliding_window_view(padded, (rows2, cols2))\n",
    "\n",
    "    # Element-wise multiply the sliding windows with the flipped matrix\n",
    "    multiplied = windows * flipped_matrix2\n",
    "\n",
    "    # Sum along the (rows2, cols2) dimensions\n",
    "    output = np.sum(multiplied, axis=(2, 3))\n",
    "\n",
    "    return output\n",
    "\n",
    "\n",
    "%timeit convolution(image, kernel)"
   ]
  },
  {
   "cell_type": "code",
   "execution_count": 13,
   "id": "6742082b",
   "metadata": {},
   "outputs": [
    {
     "name": "stdout",
     "output_type": "stream",
     "text": [
      "19.6 ms ± 324 µs per loop (mean ± std. dev. of 7 runs, 100 loops each)\n"
     ]
    }
   ],
   "source": [
    "def convolution(matrix, stencil):\n",
    "\n",
    "    if np.shape(stencil) > np.shape(matrix):\n",
    "        raise ValueError(\n",
    "            \"Stencil shape is greater than matrix in at least one dimension\"\n",
    "        )\n",
    "\n",
    "    result = np.zeros(\n",
    "        np.array(np.shape(matrix)) + np.array(np.shape(stencil)) - np.array((1, 1))\n",
    "    )\n",
    "\n",
    "    for biasX in range(np.shape(stencil)[0]):\n",
    "        for biasY in range(np.shape(stencil)[1]):\n",
    "            result[\n",
    "                biasX : np.shape(matrix)[0] + biasX, biasY : np.shape(matrix)[1] + biasY\n",
    "            ] += (stencil[biasX, biasY] * matrix)\n",
    "\n",
    "    return result\n",
    "\n",
    "\n",
    "%timeit convolution(image, kernel)"
   ]
  },
  {
   "cell_type": "code",
   "execution_count": 14,
   "id": "347f7174",
   "metadata": {},
   "outputs": [
    {
     "name": "stdout",
     "output_type": "stream",
     "text": [
      "15.6 ms ± 237 µs per loop (mean ± std. dev. of 7 runs, 100 loops each)\n"
     ]
    }
   ],
   "source": [
    "def convolution(M, S):\n",
    "    R = np.zeros((M.shape[0] - S.shape[0] + 1, M.shape[1] - S.shape[1] + 1))\n",
    "    for k in range(S.shape[0]):\n",
    "        for l in range(S.shape[1]):\n",
    "            R += M[k : k + R.shape[0], l : l + R.shape[1]] * S[k, l]\n",
    "    return R\n",
    "\n",
    "\n",
    "%timeit convolution(image, kernel)"
   ]
  }
 ],
 "metadata": {
  "kernelspec": {
   "display_name": "Python 3 (ipykernel)",
   "language": "python",
   "name": "python3"
  },
  "language_info": {
   "codemirror_mode": {
    "name": "ipython",
    "version": 3
   },
   "file_extension": ".py",
   "mimetype": "text/x-python",
   "name": "python",
   "nbconvert_exporter": "python",
   "pygments_lexer": "ipython3",
   "version": "3.8.10"
  }
 },
 "nbformat": 4,
 "nbformat_minor": 5
}
