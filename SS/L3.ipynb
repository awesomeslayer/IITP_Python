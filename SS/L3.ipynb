{
 "cells": [
  {
   "cell_type": "code",
   "execution_count": 19,
   "id": "065f86c4",
   "metadata": {},
   "outputs": [
    {
     "name": "stdout",
     "output_type": "stream",
     "text": [
      "Overwriting scatter_plot.py\n"
     ]
    }
   ],
   "source": [
    "%%writefile scatter_plot.py\n",
    "\n",
    "import numpy as np\n",
    "import pandas as pd\n",
    "import seaborn\n",
    "import matplotlib.pyplot as plt\n",
    "from matplotlib import cm\n",
    "from matplotlib.ticker import PercentFormatter\n",
    "from sklearn import datasets\n",
    "from pandas.plotting import scatter_matrix\n",
    "from pathlib import Path\n",
    "import hydra \n",
    "\n",
    "\n",
    "def scatter_plot (dataframe, res_path, features, species):\n",
    "    fig = plt.figure()\n",
    "    \n",
    "    gs = plt.GridSpec(4, 4, wspace=0, hspace=0)\n",
    "    axes = [[fig.add_subplot(gs[i : i + 1, j : j + 1]) for j in range(4)] for i in range(4)]\n",
    "\n",
    "    for i, f1 in enumerate(features):\n",
    "        for j, f2 in enumerate(features):\n",
    "            # Scatterplots\n",
    "            axes[i][j].sharey(axes[i][0 if i else 1])\n",
    "            if i != j:\n",
    "                axes[i][j].sharex(axes[0 if j else 1][j])\n",
    "            axes[i][j].yaxis.set_visible(j == 0)\n",
    "            axes[i][j].xaxis.set_visible(i == len(features) - 1)\n",
    "            axes[i][j].set_ylabel(features[f1][\"name\"])\n",
    "            axes[i][j].set_xlabel(features[f2][\"name\"])\n",
    "\n",
    "            if i == j:\n",
    "                continue\n",
    "\n",
    "            for s in species:\n",
    "                axes[i][j].scatter(\n",
    "                    dataframe[dataframe[\"Class\"] == s][f2],\n",
    "                    dataframe[dataframe[\"Class\"] == s][f1],\n",
    "                    color=species[s][\"color\"],\n",
    "                    label=species[s][\"name\"],\n",
    "                    alpha=0.5,\n",
    "                )\n",
    "\n",
    "        # Histogram\n",
    "        ax_hist = axes[i][i].twinx()\n",
    "        ax_r = axes[i][3].twinx()\n",
    "\n",
    "        # Rightmost plots have shared twin axes with histograms to add labels\n",
    "        ax_r.sharey(ax_hist)\n",
    "        ax_hist.xaxis.set_visible(False)\n",
    "        ax_hist.yaxis.set_visible(False)\n",
    "        ax_r.xaxis.set_visible(False)\n",
    "        ax_r.yaxis.set_visible(True)\n",
    "        ax_r.set_ylabel(\"Percent in dataset\")\n",
    "        # This creates percentages\n",
    "        ax_r.yaxis.set_major_formatter(PercentFormatter(1))\n",
    "\n",
    "        for s in species:\n",
    "            # Weights required for percentages (to ensure sum == 0)\n",
    "            data = dataframe[dataframe[\"Class\"] == s][f1]\n",
    "            ax_hist.hist(\n",
    "                data,\n",
    "                color=species[s][\"color\"],\n",
    "                alpha=0.5,\n",
    "                weights=np.full(len(data), 1/len(data)),\n",
    "                label=species[s][\"name\"],\n",
    "            )\n",
    "\n",
    "        if i == 0:\n",
    "            ax_hist.legend(loc=\"upper left\")\n",
    "    plt.show()\n",
    "\n",
    "if __name__ == \"__main__\":\n",
    "@hydra.main(version_base=None, config_path=\".\", config_name=\"config\")\n",
    "def main():\n",
    "    \n",
    "    # Colors were obtained via np.unique(scatter_matrix[0][1].get_children()[0].get_facecolor(), axis = 0)\n",
    "    species = {\n",
    "        \"Iris-setosa\": {\n",
    "            \"name\": \"Setosa\",\n",
    "            \"color\": (0.267004, 0.004874, 0.329415, 0.8),\n",
    "        },\n",
    "        \"Iris-versicolor\": {\n",
    "            \"name\": \"Versicolor\",\n",
    "            \"color\": (0.127568, 0.566949, 0.550556, 0.8),\n",
    "        },\n",
    "        \"Iris-virginica\": {\n",
    "            \"name\": \"Virginica\",\n",
    "            \"color\": (0.993248, 0.906157, 0.143936, 0.8),\n",
    "        },\n",
    "    }\n",
    "\n",
    "    # Mostly unused\n",
    "    features = {\n",
    "        \"Sepal_Length\": {\n",
    "            \"name\": \"Sepal length (cm)\",\n",
    "        },\n",
    "        \"Sepal_Width\": {\n",
    "            \"name\": \"Sepal width (cm)\",\n",
    "        },\n",
    "        \"Petal_Length\": {\n",
    "            \"name\": \"Petal length (cm)\",\n",
    "        },\n",
    "        \"Petal_Width\": {\n",
    "            \"name\": \"Petal width (cm)\",\n",
    "        },\n",
    "    }\n",
    "    for e, c in zip(features.values(), cm.rainbow(np.linspace(0, 1, len(features)))):\n",
    "        e[\"color\"] = c\n",
    "\n",
    "    # General settings\n",
    "    plt.rcParams.update({\"font.size\": 16})\n",
    "    plt.rcParams[\"figure.figsize\"] = (20, 20)\n",
    "    \n",
    "    # Opening CSV file\n",
    "    try:\n",
    "        dataframe = pd.read_csv(\"iris.csv\")\n",
    "    except IOError:\n",
    "        pass\n",
    "\n",
    "    # Loading dataset from sklearn package\n",
    "    iris = datasets.load_iris()\n",
    "    # Creating data frame for pandas\n",
    "    dataframe = pd.DataFrame(iris[\"data\"], columns=iris[\"feature_names\"])\n",
    "\n",
    "    # Download from the internet\n",
    "    csv_url = \"https://archive.ics.uci.edu/ml/machine-learning-databases/iris/iris.data\"\n",
    "    # Requires setting column names manually\n",
    "    col_names = [\"Sepal_Length\", \"Sepal_Width\", \"Petal_Length\", \"Petal_Width\", \"Class\"]\n",
    "    dataframe = pd.read_csv(csv_url, names=col_names)\n",
    "\n",
    "    scatter_plot(dataframe, Path(\"res.jpg\"), features, species)\n",
    "\n",
    "\n"
   ]
  },
  {
   "cell_type": "code",
   "execution_count": 20,
   "id": "ab137d7f",
   "metadata": {},
   "outputs": [
    {
     "ename": "ModuleNotFoundError",
     "evalue": "No module named 'hydra'",
     "output_type": "error",
     "traceback": [
      "\u001b[0;31m---------------------------------------------------------------------------\u001b[0m",
      "\u001b[0;31mModuleNotFoundError\u001b[0m                       Traceback (most recent call last)",
      "File \u001b[0;32m~/Projects/IITP_Python/scatter_plot.py:11\u001b[0m\n\u001b[1;32m      9\u001b[0m \u001b[38;5;28;01mfrom\u001b[39;00m \u001b[38;5;21;01mpandas\u001b[39;00m\u001b[38;5;21;01m.\u001b[39;00m\u001b[38;5;21;01mplotting\u001b[39;00m \u001b[38;5;28;01mimport\u001b[39;00m scatter_matrix\n\u001b[1;32m     10\u001b[0m \u001b[38;5;28;01mfrom\u001b[39;00m \u001b[38;5;21;01mpathlib\u001b[39;00m \u001b[38;5;28;01mimport\u001b[39;00m Path\n\u001b[0;32m---> 11\u001b[0m \u001b[38;5;28;01mimport\u001b[39;00m \u001b[38;5;21;01mhydra\u001b[39;00m \n\u001b[1;32m     14\u001b[0m \u001b[38;5;28;01mdef\u001b[39;00m \u001b[38;5;21mscatter_plot\u001b[39m (dataframe, res_path, features, species):\n\u001b[1;32m     15\u001b[0m     fig \u001b[38;5;241m=\u001b[39m plt\u001b[38;5;241m.\u001b[39mfigure()\n",
      "\u001b[0;31mModuleNotFoundError\u001b[0m: No module named 'hydra'"
     ]
    }
   ],
   "source": [
    "%run scatter_plot.py"
   ]
  },
  {
   "cell_type": "code",
   "execution_count": 16,
   "id": "e3010f21",
   "metadata": {},
   "outputs": [],
   "source": [
    "import scatter_plot"
   ]
  },
  {
   "cell_type": "code",
   "execution_count": 24,
   "id": "fd42a632",
   "metadata": {},
   "outputs": [
    {
     "ename": "IndentationError",
     "evalue": "unexpected indent (879957663.py, line 2)",
     "output_type": "error",
     "traceback": [
      "\u001b[0;36m  Cell \u001b[0;32mIn[24], line 2\u001b[0;36m\u001b[0m\n\u001b[0;31m    1)argparse - написать\u001b[0m\n\u001b[0m    ^\u001b[0m\n\u001b[0;31mIndentationError\u001b[0m\u001b[0;31m:\u001b[0m unexpected indent\n"
     ]
    }
   ],
   "source": [
    "ls -alhv\n",
    "    1)argparse - написать\n",
    "    + pathlib - распознать какие аргументы и как использовать в дальнейшем\n",
    "    2) аналогично, но через hydra (исчезает -alhv, но появляется конфиг файл)\n",
    "По факту 2 обертки над одной логикой \n",
    "К среде! "
   ]
  },
  {
   "cell_type": "code",
   "execution_count": null,
   "id": "5d543db5",
   "metadata": {},
   "outputs": [],
   "source": []
  }
 ],
 "metadata": {
  "kernelspec": {
   "display_name": "Python 3 (ipykernel)",
   "language": "python",
   "name": "python3"
  },
  "language_info": {
   "codemirror_mode": {
    "name": "ipython",
    "version": 3
   },
   "file_extension": ".py",
   "mimetype": "text/x-python",
   "name": "python",
   "nbconvert_exporter": "python",
   "pygments_lexer": "ipython3",
   "version": "3.8.10"
  }
 },
 "nbformat": 4,
 "nbformat_minor": 5
}
