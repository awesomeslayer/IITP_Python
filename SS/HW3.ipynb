{
 "cells": [
  {
   "cell_type": "markdown",
   "id": "9ac9c381",
   "metadata": {},
   "source": [
    "### Homework 3 - Path + argparse + hydra\n",
    "\n",
    "## Theory\n",
    "\n",
    "CLI (command line interrfaces) are rarely useful without extensive and easy to use options. In this lesson, we will learn how to make good command line interfaces and store settings for them on the example of `ls` command"
   ]
  },
  {
   "cell_type": "code",
   "execution_count": 1,
   "id": "17032501",
   "metadata": {
    "scrolled": true
   },
   "outputs": [
    {
     "name": "stdout",
     "output_type": "stream",
     "text": [
      "Usage: ls [OPTION]... [FILE]...\n",
      "List information about the FILEs (the current directory by default).\n",
      "Sort entries alphabetically if none of -cftuvSUX nor --sort is specified.\n",
      "\n",
      "Mandatory arguments to long options are mandatory for short options too.\n",
      "  -a, --all                  do not ignore entries starting with .\n",
      "  -A, --almost-all           do not list implied . and ..\n",
      "      --author               with -l, print the author of each file\n",
      "  -b, --escape               print C-style escapes for nongraphic characters\n",
      "      --block-size=SIZE      with -l, scale sizes by SIZE when printing them;\n",
      "                               e.g., '--block-size=M'; see SIZE format below\n",
      "  -B, --ignore-backups       do not list implied entries ending with ~\n",
      "  -c                         with -lt: sort by, and show, ctime (time of last\n",
      "                               modification of file status information);\n",
      "                               with -l: show ctime and sort by name;\n",
      "                               otherwise: sort by ctime, newest first\n",
      "  -C                         list entries by columns\n",
      "      --color[=WHEN]         colorize the output; WHEN can be 'always' (default\n",
      "                               if omitted), 'auto', or 'never'; more info below\n",
      "  -d, --directory            list directories themselves, not their contents\n",
      "  -D, --dired                generate output designed for Emacs' dired mode\n",
      "  -f                         list all entries in directory order\n",
      "  -F, --classify[=WHEN]      append indicator (one of */=>@|) to entries;\n",
      "                               WHEN can be 'always' (default if omitted),\n",
      "                               'auto', or 'never'\n",
      "      --file-type            likewise, except do not append '*'\n",
      "      --format=WORD          across -x, commas -m, horizontal -x, long -l,\n",
      "                               single-column -1, verbose -l, vertical -C\n",
      "      --full-time            like -l --time-style=full-iso\n",
      "  -g                         like -l, but do not list owner\n",
      "      --group-directories-first\n",
      "                             group directories before files;\n",
      "                               can be augmented with a --sort option, but any\n",
      "                               use of --sort=none (-U) disables grouping\n",
      "  -G, --no-group             in a long listing, don't print group names\n",
      "  -h, --human-readable       with -l and -s, print sizes like 1K 234M 2G etc.\n",
      "      --si                   likewise, but use powers of 1000 not 1024\n",
      "  -H, --dereference-command-line\n",
      "                             follow symbolic links listed on the command line\n",
      "      --dereference-command-line-symlink-to-dir\n",
      "                             follow each command line symbolic link\n",
      "                               that points to a directory\n",
      "      --hide=PATTERN         do not list implied entries matching shell PATTERN\n",
      "                               (overridden by -a or -A)\n",
      "      --hyperlink[=WHEN]     hyperlink file names; WHEN can be 'always'\n",
      "                               (default if omitted), 'auto', or 'never'\n",
      "      --indicator-style=WORD  append indicator with style WORD to entry names:\n",
      "                               none (default), slash (-p),\n",
      "                               file-type (--file-type), classify (-F)\n",
      "  -i, --inode                print the index number of each file\n",
      "  -I, --ignore=PATTERN       do not list implied entries matching shell PATTERN\n",
      "  -k, --kibibytes            default to 1024-byte blocks for file system usage;\n",
      "                               used only with -s and per directory totals\n",
      "  -l                         use a long listing format\n",
      "  -L, --dereference          when showing file information for a symbolic\n",
      "                               link, show information for the file the link\n",
      "                               references rather than for the link itself\n",
      "  -m                         fill width with a comma separated list of entries\n",
      "  -n, --numeric-uid-gid      like -l, but list numeric user and group IDs\n",
      "  -N, --literal              print entry names without quoting\n",
      "  -o                         like -l, but do not list group information\n",
      "  -p, --indicator-style=slash\n",
      "                             append / indicator to directories\n",
      "  -q, --hide-control-chars   print ? instead of nongraphic characters\n",
      "      --show-control-chars   show nongraphic characters as-is (the default,\n",
      "                               unless program is 'ls' and output is a terminal)\n",
      "  -Q, --quote-name           enclose entry names in double quotes\n",
      "      --quoting-style=WORD   use quoting style WORD for entry names:\n",
      "                               literal, locale, shell, shell-always,\n",
      "                               shell-escape, shell-escape-always, c, escape\n",
      "                               (overrides QUOTING_STYLE environment variable)\n",
      "  -r, --reverse              reverse order while sorting\n",
      "  -R, --recursive            list subdirectories recursively\n",
      "  -s, --size                 print the allocated size of each file, in blocks\n",
      "  -S                         sort by file size, largest first\n",
      "      --sort=WORD            sort by WORD instead of name: none (-U), size (-S),\n",
      "                               time (-t), version (-v), extension (-X), width\n",
      "      --time=WORD            change the default of using modification times;\n",
      "                               access time (-u): atime, access, use;\n",
      "                               change time (-c): ctime, status;\n",
      "                               birth time: birth, creation;\n",
      "                             with -l, WORD determines which time to show;\n",
      "                             with --sort=time, sort by WORD (newest first)\n",
      "      --time-style=TIME_STYLE  time/date format with -l; see TIME_STYLE below\n",
      "  -t                         sort by time, newest first; see --time\n",
      "  -T, --tabsize=COLS         assume tab stops at each COLS instead of 8\n",
      "  -u                         with -lt: sort by, and show, access time;\n",
      "                               with -l: show access time and sort by name;\n",
      "                               otherwise: sort by access time, newest first\n",
      "  -U                         do not sort; list entries in directory order\n",
      "  -v                         natural sort of (version) numbers within text\n",
      "  -w, --width=COLS           set output width to COLS.  0 means no limit\n",
      "  -x                         list entries by lines instead of by columns\n",
      "  -X                         sort alphabetically by entry extension\n",
      "  -Z, --context              print any security context of each file\n",
      "      --zero                 end each output line with NUL, not newline\n",
      "  -1                         list one file per line\n",
      "      --append-exe           append .exe if cygwin magic was needed\n",
      "      --help     display this help and exit\n",
      "      --version  output version information and exit\n",
      "\n",
      "The SIZE argument is an integer and optional unit (example: 10K is 10*1024).\n",
      "Units are K,M,G,T,P,E,Z,Y (powers of 1024) or KB,MB,... (powers of 1000).\n",
      "Binary prefixes can be used, too: KiB=K, MiB=M, and so on.\n",
      "\n",
      "The TIME_STYLE argument can be full-iso, long-iso, iso, locale, or +FORMAT.\n",
      "FORMAT is interpreted like in date(1).  If FORMAT is FORMAT1<newline>FORMAT2,\n",
      "then FORMAT1 applies to non-recent files and FORMAT2 to recent files.\n",
      "TIME_STYLE prefixed with 'posix-' takes effect only outside the POSIX locale.\n",
      "Also the TIME_STYLE environment variable sets the default style to use.\n",
      "\n",
      "Using color to distinguish file types is disabled both by default and\n",
      "with --color=never.  With --color=auto, ls emits color codes only when\n",
      "standard output is connected to a terminal.  The LS_COLORS environment\n",
      "variable can change the settings.  Use the dircolors command to set it.\n",
      "\n",
      "Exit status:\n",
      " 0  if OK,\n",
      " 1  if minor problems (e.g., cannot access subdirectory),\n",
      " 2  if serious trouble (e.g., cannot access command-line argument).\n",
      "\n",
      "GNU coreutils online help: <https://www.gnu.org/software/coreutils/>\n",
      "Report any translation bugs to <https://translationproject.org/team/>\n",
      "Full documentation <https://www.gnu.org/software/coreutils/ls>\n",
      "or available locally via: info '(coreutils) ls invocation'\n"
     ]
    }
   ],
   "source": [
    "! ls --help"
   ]
  },
  {
   "cell_type": "code",
   "execution_count": 2,
   "id": "0bd18b40",
   "metadata": {},
   "outputs": [
    {
     "name": "stdout",
     "output_type": "stream",
     "text": [
      "-rwx------+ 1 kirik kirik 1.2M Jul  4 00:34 HW1.ipynb\n",
      "-rwx------+ 1 kirik kirik 278K Jul  8 20:47 HW2.ipynb\n"
     ]
    }
   ],
   "source": [
    "! ls -alh HW1.ipynb HW2.ipynb"
   ]
  },
  {
   "cell_type": "markdown",
   "id": "c3954ba4",
   "metadata": {},
   "source": [
    "Pretty help may be implemented using `argparse` module.\n",
    "\n",
    "Here is a dummy code using argparse:"
   ]
  },
  {
   "cell_type": "code",
   "execution_count": 3,
   "id": "50c51a99",
   "metadata": {},
   "outputs": [
    {
     "name": "stdout",
     "output_type": "stream",
     "text": [
      "usage: ipykernel_launcher.py [-h] [-a ARG]\n",
      "\n",
      "Example\n",
      "\n",
      "optional arguments:\n",
      "  -h, --help         show this help message and exit\n",
      "  -a ARG, --arg ARG  some argument\n",
      "\n",
      "Text following the arguments\n"
     ]
    }
   ],
   "source": [
    "import argparse\n",
    "\n",
    "parser = argparse.ArgumentParser(\n",
    "    description=\"Example\",\n",
    "    epilog=\"Text following the arguments\",\n",
    ")\n",
    "parser.add_argument(\"-a\", \"--arg\", help=\"some argument\")\n",
    "args = parser.parse_args([\"-a\", \"val\"])\n",
    "parser.print_help()"
   ]
  },
  {
   "cell_type": "markdown",
   "id": "3475250f",
   "metadata": {},
   "source": [
    "However, this is not very useful in machine learning, there it is necessary to perform a lot of runs with similar settings and save those settings alongside the results. For this purpose, the `hydra` module is more useful.\n",
    "\n",
    "Here is its usage:"
   ]
  },
  {
   "cell_type": "code",
   "execution_count": 4,
   "id": "9ea7a62d",
   "metadata": {},
   "outputs": [
    {
     "name": "stdout",
     "output_type": "stream",
     "text": [
      "Writing config.yaml\n"
     ]
    }
   ],
   "source": [
    "%%writefile config.yaml\n",
    "\n",
    "db:\n",
    "  driver: postgresql\n",
    "  pass: drowssap\n",
    "  timeout: 20\n",
    "  user: postgres_user"
   ]
  },
  {
   "cell_type": "code",
   "execution_count": 5,
   "id": "951e05fa",
   "metadata": {},
   "outputs": [
    {
     "name": "stdout",
     "output_type": "stream",
     "text": [
      "Overwriting hydra_example.py\n"
     ]
    }
   ],
   "source": [
    "%%writefile hydra_example.py\n",
    "\n",
    "import hydra\n",
    "from omegaconf import DictConfig, OmegaConf\n",
    "\n",
    "@hydra.main(version_base=None, config_path=\".\", config_name=\"config\")\n",
    "def main(cfg : DictConfig) -> None:\n",
    "    print(OmegaConf.to_yaml(cfg))\n",
    "\n",
    "if __name__ == \"__main__\":\n",
    "    main()"
   ]
  },
  {
   "cell_type": "code",
   "execution_count": 6,
   "id": "b9f60e4a",
   "metadata": {},
   "outputs": [
    {
     "name": "stdout",
     "output_type": "stream",
     "text": [
      "db:\n",
      "  driver: postgresql\n",
      "  pass: drowssap\n",
      "  timeout: 20\n",
      "  user: postgres_user\n",
      "\n"
     ]
    }
   ],
   "source": [
    "%run hydra_example.py"
   ]
  },
  {
   "cell_type": "code",
   "execution_count": 7,
   "id": "a9cf81da",
   "metadata": {},
   "outputs": [
    {
     "name": "stdout",
     "output_type": "stream",
     "text": [
      "hydra_example is powered by Hydra.\n",
      "\n",
      "== Configuration groups ==\n",
      "Compose your configuration from those groups (group=option)\n",
      "\n",
      "outputs/2023-07-10/10-01-51/.hydra: config, hydra, overrides\n",
      "\n",
      "\n",
      "== Config ==\n",
      "Override anything in the config (foo.bar=value)\n",
      "\n",
      "db:\n",
      "  driver: postgresql\n",
      "  pass: drowssap\n",
      "  timeout: 20\n",
      "  user: postgres_user\n",
      "\n",
      "\n",
      "Powered by Hydra (https://hydra.cc)\n",
      "Use --hydra-help to view Hydra specific help\n",
      "\n",
      "\n"
     ]
    }
   ],
   "source": [
    "%run hydra_example.py --help"
   ]
  },
  {
   "cell_type": "code",
   "execution_count": 8,
   "id": "62e31a2c",
   "metadata": {},
   "outputs": [
    {
     "name": "stdout",
     "output_type": "stream",
     "text": [
      "Hydra (1.3.1)\n",
      "See https://hydra.cc for more info.\n",
      "\n",
      "== Flags ==\n",
      "--help,-h : Application's help\n",
      "--hydra-help : Hydra's help\n",
      "--version : Show Hydra's version and exit\n",
      "--cfg,-c : Show config instead of running [job|hydra|all]\n",
      "--resolve : Used in conjunction with --cfg, resolve config interpolations before printing.\n",
      "--package,-p : Config package to show\n",
      "--run,-r : Run a job\n",
      "--multirun,-m : Run multiple jobs with the configured launcher and sweeper\n",
      "--shell-completion,-sc : Install or Uninstall shell completion:\n",
      "    Bash - Install:\n",
      "    eval \"$(python hydra_example.py -sc install=bash)\"\n",
      "    Bash - Uninstall:\n",
      "    eval \"$(python hydra_example.py -sc uninstall=bash)\"\n",
      "\n",
      "    Fish - Install:\n",
      "    python hydra_example.py -sc install=fish | source\n",
      "    Fish - Uninstall:\n",
      "    python hydra_example.py -sc uninstall=fish | source\n",
      "\n",
      "    Zsh - Install:\n",
      "    Zsh is compatible with the Bash shell completion, see the [documentation](https://hydra.cc/docs/1.2/tutorials/basic/running_your_app/tab_completion#zsh-instructions) for details.\n",
      "    eval \"$(python hydra_example.py -sc install=bash)\"\n",
      "    Zsh - Uninstall:\n",
      "    eval \"$(python hydra_example.py -sc uninstall=bash)\"\n",
      "\n",
      "--config-path,-cp : Overrides the config_path specified in hydra.main().\n",
      "                    The config_path is absolute or relative to the Python file declaring @hydra.main()\n",
      "--config-name,-cn : Overrides the config_name specified in hydra.main()\n",
      "--config-dir,-cd : Adds an additional config dir to the config search path\n",
      "--experimental-rerun : Rerun a job from a previous config pickle\n",
      "--info,-i : Print Hydra information [all|config|defaults|defaults-tree|plugins|searchpath]\n",
      "Overrides : Any key=value arguments to override config values (use dots for.nested=overrides)\n",
      "\n",
      "== Configuration groups ==\n",
      "Compose your configuration from those groups (For example, append hydra/job_logging=disabled to command line)\n",
      "\n",
      "hydra: config\n",
      "hydra/env: default\n",
      "hydra/help: default\n",
      "hydra/hydra_help: default\n",
      "hydra/hydra_logging: default, disabled, hydra_debug, none\n",
      "hydra/job_logging: default, disabled, none, stdout\n",
      "hydra/launcher: basic\n",
      "hydra/output: default\n",
      "hydra/sweeper: basic\n",
      "\n",
      "\n",
      "Use '--cfg hydra' to Show the Hydra config.\n",
      "\n"
     ]
    }
   ],
   "source": [
    "%run hydra_example.py --hydra-help"
   ]
  },
  {
   "cell_type": "markdown",
   "id": "501a6f17",
   "metadata": {},
   "source": [
    "Unfortunately, `hydra` has worse help compared to `argparse`. However, it allows to save settings in files, override them using commandline and perform multiruns."
   ]
  },
  {
   "cell_type": "code",
   "execution_count": 9,
   "id": "dc8e7b3d",
   "metadata": {},
   "outputs": [
    {
     "name": "stdout",
     "output_type": "stream",
     "text": [
      "db:\n",
      "  driver: postgresql\n",
      "  pass: drowssap\n",
      "  timeout: 20\n",
      "  user: admin\n",
      "\n"
     ]
    }
   ],
   "source": [
    "%run hydra_example.py db.user=admin"
   ]
  },
  {
   "cell_type": "markdown",
   "id": "25e98eba",
   "metadata": {},
   "source": [
    "For file access, use `pathlib`, not `os`."
   ]
  },
  {
   "cell_type": "markdown",
   "id": "23485a6e",
   "metadata": {},
   "source": [
    "## Practice"
   ]
  },
  {
   "cell_type": "markdown",
   "id": "758cdb69",
   "metadata": {},
   "source": [
    "Implement `myls.py` with the following options using `argparse` module:"
   ]
  },
  {
   "cell_type": "code",
   "execution_count": 10,
   "id": "a700f7a7",
   "metadata": {},
   "outputs": [
    {
     "name": "stdout",
     "output_type": "stream",
     "text": [
      "Writing myls.py\n"
     ]
    }
   ],
   "source": [
    "%%writefile myls.py\n",
    "\n",
    "import argparse\n",
    "\n",
    "\n",
    "def main():\n",
    "        # TODO: implement ls functionality\n",
    "\n",
    "if __name__ == \"__main__\":\n",
    "    main()"
   ]
  },
  {
   "cell_type": "code",
   "execution_count": 11,
   "id": "6ce3627c",
   "metadata": {},
   "outputs": [
    {
     "name": "stdout",
     "output_type": "stream",
     "text": [
      "Current verbosity level: 2\n",
      "Unknown args: ['--foo']\n",
      "Arguments:\tall: true\n",
      "\tfiles:\n",
      "\t- myls.py\n",
      "\t- myls_hydra.py\n",
      "\thelp: false\n",
      "\thuman_readable: false\n",
      "\tl: true\n",
      "\trecursive: false\n",
      "\tverbosity: 2\n",
      "-rwx------+ 1 kirik kirik 1.2M Jul  4 00:34 HW1.ipynb\n",
      "-rwx------+ 1 kirik kirik 278K Jul  8 20:47 HW2.ipynb\n"
     ]
    }
   ],
   "source": [
    "%run myls.py -alvv --foo HW1.ipynb HW2.ipynb"
   ]
  },
  {
   "cell_type": "code",
   "execution_count": 12,
   "id": "45193e4d",
   "metadata": {},
   "outputs": [
    {
     "name": "stdout",
     "output_type": "stream",
     "text": [
      "Writing myls_config.yaml\n"
     ]
    }
   ],
   "source": [
    "%%writefile myls_config.yaml\n",
    "\n",
    "all: true\n",
    "files:\n",
    "- myls.py\n",
    "- myls_hydra.py\n",
    "- myls_config.yaml\n",
    "human_readable: true\n",
    "l: true\n",
    "recursive: false\n",
    "verbosity: 0"
   ]
  },
  {
   "cell_type": "code",
   "execution_count": 13,
   "id": "2453fbbe",
   "metadata": {},
   "outputs": [
    {
     "name": "stdout",
     "output_type": "stream",
     "text": [
      "Writing myls_config2.yaml\n"
     ]
    }
   ],
   "source": [
    "%%writefile myls_config2.yaml\n",
    "\n",
    "all: false\n",
    "files:\n",
    "- foo\n",
    "- bar\n",
    "human_readable: false\n",
    "l: false\n",
    "recursive: true\n",
    "verbosity: 2"
   ]
  },
  {
   "cell_type": "code",
   "execution_count": 14,
   "id": "0df12a78",
   "metadata": {},
   "outputs": [
    {
     "name": "stdout",
     "output_type": "stream",
     "text": [
      "Writing myls_hydra.py\n"
     ]
    }
   ],
   "source": [
    "%%writefile myls_hydra.py\n",
    "\n",
    "import hydra\n",
    "from omegaconf import DictConfig, OmegaConf\n",
    "\n",
    "\n",
    "@hydra.main(version_base=None, config_path=\".\", config_name=\"myls_config.yaml\")\n",
    "def main(cfg : DictConfig) -> None:\n",
    "    print(cfg)\n",
    "    # TODO: implement ls functionality\n",
    "    # Ideally, import from myls.py file necessary function\n",
    "\n",
    "if __name__ == \"__main__\":\n",
    "    main()"
   ]
  },
  {
   "cell_type": "code",
   "execution_count": 15,
   "id": "d5c921b7",
   "metadata": {},
   "outputs": [
    {
     "name": "stdout",
     "output_type": "stream",
     "text": [
      "[2023-07-10 10:01:53,503][HYDRA] Launching 8 jobs locally\n",
      "[2023-07-10 10:01:53,503][HYDRA] \t#0 : human_readable=False all=False files=[.]\n",
      "{'all': False, 'files': ['.'], 'human_readable': False, 'l': True, 'recursive': False, 'verbosity': 0}\n",
      "[2023-07-10 10:01:53,611][HYDRA] \t#1 : human_readable=False all=False files=[..]\n",
      "{'all': False, 'files': ['..'], 'human_readable': False, 'l': True, 'recursive': False, 'verbosity': 0}\n",
      "[2023-07-10 10:01:53,710][HYDRA] \t#2 : human_readable=False all=True files=[.]\n",
      "{'all': True, 'files': ['.'], 'human_readable': False, 'l': True, 'recursive': False, 'verbosity': 0}\n",
      "[2023-07-10 10:01:53,812][HYDRA] \t#3 : human_readable=False all=True files=[..]\n",
      "{'all': True, 'files': ['..'], 'human_readable': False, 'l': True, 'recursive': False, 'verbosity': 0}\n",
      "[2023-07-10 10:01:53,967][HYDRA] \t#4 : human_readable=True all=False files=[.]\n",
      "{'all': False, 'files': ['.'], 'human_readable': True, 'l': True, 'recursive': False, 'verbosity': 0}\n",
      "[2023-07-10 10:01:54,079][HYDRA] \t#5 : human_readable=True all=False files=[..]\n",
      "{'all': False, 'files': ['..'], 'human_readable': True, 'l': True, 'recursive': False, 'verbosity': 0}\n",
      "[2023-07-10 10:01:54,185][HYDRA] \t#6 : human_readable=True all=True files=[.]\n",
      "{'all': True, 'files': ['.'], 'human_readable': True, 'l': True, 'recursive': False, 'verbosity': 0}\n",
      "[2023-07-10 10:01:54,301][HYDRA] \t#7 : human_readable=True all=True files=[..]\n",
      "{'all': True, 'files': ['..'], 'human_readable': True, 'l': True, 'recursive': False, 'verbosity': 0}\n"
     ]
    }
   ],
   "source": [
    "%run myls_hydra.py --multirun human_readable=false,true all=false,true files=[.],[..]"
   ]
  },
  {
   "cell_type": "code",
   "execution_count": 1,
   "id": "dae81260",
   "metadata": {},
   "outputs": [],
   "source": [
    "#1) написать ls ??\n",
    "#2) pathlib"
   ]
  }
 ],
 "metadata": {
  "kernelspec": {
   "display_name": "Python 3 (ipykernel)",
   "language": "python",
   "name": "python3"
  },
  "language_info": {
   "codemirror_mode": {
    "name": "ipython",
    "version": 3
   },
   "file_extension": ".py",
   "mimetype": "text/x-python",
   "name": "python",
   "nbconvert_exporter": "python",
   "pygments_lexer": "ipython3",
   "version": "3.8.10"
  }
 },
 "nbformat": 4,
 "nbformat_minor": 5
}
