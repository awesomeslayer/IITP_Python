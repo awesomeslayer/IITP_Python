{
 "cells": [
  {
   "cell_type": "markdown",
   "id": "9160f94b",
   "metadata": {},
   "source": [
    "#### Homework 4 - Testing\n",
    "\n",
    "## Theory\n",
    "\n",
    "Testing should not be written from scratch, since this is a huge waste of time. Furthermore, testing modules provide a lot of QoL features.\n",
    "\n",
    "In python, it is usually done using `pytest` module."
   ]
  },
  {
   "cell_type": "code",
   "execution_count": 1,
   "id": "eef29041",
   "metadata": {},
   "outputs": [
    {
     "name": "stdout",
     "output_type": "stream",
     "text": [
      "/bin/bash: строка 1: pytest: команда не найдена\r\n"
     ]
    }
   ],
   "source": [
    "!pytest --help"
   ]
  },
  {
   "cell_type": "markdown",
   "id": "8973fc03",
   "metadata": {},
   "source": [
    "Writing a test is simple - just define a function with \"test_*\" name, or a class named \"Test*\" with methods named \"test_*\". All such tests will be run."
   ]
  },
  {
   "cell_type": "code",
   "execution_count": 10,
   "id": "1a670446",
   "metadata": {},
   "outputs": [
    {
     "name": "stdout",
     "output_type": "stream",
     "text": [
      "Overwriting test_example.py\n"
     ]
    }
   ],
   "source": [
    "%%writefile test_example.py\n",
    "def test_pass():\n",
    "    pass\n",
    "\n",
    "\n",
    "class TestClass:\n",
    "    def test_method(self):\n",
    "        assert True == True\n",
    "\n",
    "    @classmethod\n",
    "    def test_classmethod(self):\n",
    "        assert False == True\n",
    "\n",
    "    @staticmethod\n",
    "    def test_staticmethod():\n",
    "        assert False == True\n",
    "\n",
    "    def not_a_test(self):\n",
    "        assert False\n",
    "\n",
    "\n",
    "class TestAnotherClass(TestClass):\n",
    "    pass"
   ]
  },
  {
   "cell_type": "code",
   "execution_count": 3,
   "id": "f249521c",
   "metadata": {},
   "outputs": [
    {
     "name": "stdout",
     "output_type": "stream",
     "text": [
      "/bin/bash: строка 1: pytest: команда не найдена\r\n"
     ]
    }
   ],
   "source": [
    "!pytest test_example.py -v"
   ]
  },
  {
   "cell_type": "markdown",
   "id": "86937bb1",
   "metadata": {},
   "source": [
    "## Practice\n",
    "\n",
    "There is a module containing .pyc files with several bugs. Tests from docstrings, however, work fine."
   ]
  },
  {
   "cell_type": "code",
   "execution_count": 4,
   "id": "e841ca83",
   "metadata": {},
   "outputs": [
    {
     "name": "stdout",
     "output_type": "stream",
     "text": [
      "/bin/bash: строка 1: tree: команда не найдена\r\n"
     ]
    }
   ],
   "source": [
    "! tree /f calc"
   ]
  },
  {
   "cell_type": "markdown",
   "id": "fd8ed5a0",
   "metadata": {},
   "source": [
    "Ops directory contain several functions.\n",
    "Use `help` to get some information about functions."
   ]
  },
  {
   "cell_type": "code",
   "execution_count": 11,
   "id": "1dd3cbfb",
   "metadata": {},
   "outputs": [
    {
     "name": "stdout",
     "output_type": "stream",
     "text": [
      "Help on function add in module calc.ops.add:\n",
      "\n",
      "add(a: float, b: float) -> float\n",
      "    Simply add two numbers\n",
      "    \n",
      "    :param a: First number\n",
      "    :param b: Second number\n",
      "    :return: a+b\n",
      "    \n",
      "    >>> add(3, 2)\n",
      "    5\n",
      "\n",
      "Help on function calculate in module calc.calculator:\n",
      "\n",
      "calculate(expression: str) -> float\n",
      "    Calculate arithmetic expression.\n",
      "    \n",
      "    :param expr: expression\n",
      "    :return: calculated expression\n",
      "    \n",
      "    >>> calculate(\"3 + 2\")\n",
      "    5\n",
      "    >>> calculate(\"2 + 2 * 2\")\n",
      "    6\n",
      "\n"
     ]
    }
   ],
   "source": [
    "from calc.ops import *\n",
    "from calc.calculator import calculate\n",
    "\n",
    "help(add)\n",
    "help(calculate)"
   ]
  },
  {
   "cell_type": "markdown",
   "id": "3e9807fc",
   "metadata": {},
   "source": [
    "Only one of them works fine, each other contatin a bug. Find bugs by writing extensive tests.\n",
    "\n",
    "Calculate function also contains a bug. Find it."
   ]
  },
  {
   "cell_type": "code",
   "execution_count": 14,
   "id": "dbede0d9",
   "metadata": {},
   "outputs": [
    {
     "name": "stdout",
     "output_type": "stream",
     "text": [
      "\u001b[1m============================= test session starts ==============================\u001b[0m\n",
      "platform linux -- Python 3.10.6, pytest-7.4.0, pluggy-1.2.0 -- /usr/bin/python3\n",
      "cachedir: .pytest_cache\n",
      "rootdir: /home/user/Загрузки/HW4\n",
      "plugins: hydra-core-1.3.2\n",
      "collected 12 items                                                             \u001b[0m\n",
      "\n",
      "test_example.py::test_pass \u001b[32mPASSED\u001b[0m\u001b[32m                                        [  8%]\u001b[0m\n",
      "test_example.py::TestClass::test_method \u001b[32mPASSED\u001b[0m\u001b[32m                           [ 16%]\u001b[0m\n",
      "test_example.py::TestClass::test_classmethod \u001b[31mFAILED\u001b[0m\u001b[31m                      [ 25%]\u001b[0m\n",
      "test_example.py::TestClass::test_staticmethod \u001b[31mFAILED\u001b[0m\u001b[31m                     [ 33%]\u001b[0m\n",
      "test_example.py::TestAnotherClass::test_method \u001b[32mPASSED\u001b[0m\u001b[31m                    [ 41%]\u001b[0m\n",
      "test_example.py::TestAnotherClass::test_classmethod \u001b[31mFAILED\u001b[0m\u001b[31m               [ 50%]\u001b[0m\n",
      "test_example.py::TestAnotherClass::test_staticmethod \u001b[31mFAILED\u001b[0m\u001b[31m              [ 58%]\u001b[0m\n",
      "tests/test_add.py::test_add \u001b[32mPASSED\u001b[0m\u001b[31m                                       [ 66%]\u001b[0m\n",
      "tests/test_calculate.py::test_calculate \u001b[32mPASSED\u001b[0m\u001b[31m                           [ 75%]\u001b[0m\n",
      "tests/test_divide.py::test_divide \u001b[32mPASSED\u001b[0m\u001b[31m                                 [ 83%]\u001b[0m\n",
      "tests/test_multiply.py::test_multiply \u001b[32mPASSED\u001b[0m\u001b[31m                             [ 91%]\u001b[0m\n",
      "tests/test_subtract.py::test_subtract \u001b[32mPASSED\u001b[0m\u001b[31m                             [100%]\u001b[0m\n",
      "\n",
      "=================================== FAILURES ===================================\n",
      "\u001b[31m\u001b[1m__________________________ TestClass.test_classmethod __________________________\u001b[0m\n",
      "\n",
      "self = <class 'test_example.TestClass'>\n",
      "\n",
      "    \u001b[37m@classmethod\u001b[39;49;00m\n",
      "    \u001b[94mdef\u001b[39;49;00m \u001b[92mtest_classmethod\u001b[39;49;00m(\u001b[96mself\u001b[39;49;00m):\n",
      ">       \u001b[94massert\u001b[39;49;00m \u001b[94mFalse\u001b[39;49;00m == \u001b[94mTrue\u001b[39;49;00m\n",
      "\u001b[1m\u001b[31mE       assert False == True\u001b[0m\n",
      "\n",
      "\u001b[1m\u001b[31mtest_example.py\u001b[0m:11: AssertionError\n",
      "\u001b[31m\u001b[1m_________________________ TestClass.test_staticmethod __________________________\u001b[0m\n",
      "\n",
      "    \u001b[37m@staticmethod\u001b[39;49;00m\n",
      "    \u001b[94mdef\u001b[39;49;00m \u001b[92mtest_staticmethod\u001b[39;49;00m():\n",
      ">       \u001b[94massert\u001b[39;49;00m \u001b[94mFalse\u001b[39;49;00m == \u001b[94mTrue\u001b[39;49;00m\n",
      "\u001b[1m\u001b[31mE       assert False == True\u001b[0m\n",
      "\n",
      "\u001b[1m\u001b[31mtest_example.py\u001b[0m:15: AssertionError\n",
      "\u001b[31m\u001b[1m______________________ TestAnotherClass.test_classmethod _______________________\u001b[0m\n",
      "\n",
      "self = <class 'test_example.TestAnotherClass'>\n",
      "\n",
      "    \u001b[37m@classmethod\u001b[39;49;00m\n",
      "    \u001b[94mdef\u001b[39;49;00m \u001b[92mtest_classmethod\u001b[39;49;00m(\u001b[96mself\u001b[39;49;00m):\n",
      ">       \u001b[94massert\u001b[39;49;00m \u001b[94mFalse\u001b[39;49;00m == \u001b[94mTrue\u001b[39;49;00m\n",
      "\u001b[1m\u001b[31mE       assert False == True\u001b[0m\n",
      "\n",
      "\u001b[1m\u001b[31mtest_example.py\u001b[0m:11: AssertionError\n",
      "\u001b[31m\u001b[1m______________________ TestAnotherClass.test_staticmethod ______________________\u001b[0m\n",
      "\n",
      "    \u001b[37m@staticmethod\u001b[39;49;00m\n",
      "    \u001b[94mdef\u001b[39;49;00m \u001b[92mtest_staticmethod\u001b[39;49;00m():\n",
      ">       \u001b[94massert\u001b[39;49;00m \u001b[94mFalse\u001b[39;49;00m == \u001b[94mTrue\u001b[39;49;00m\n",
      "\u001b[1m\u001b[31mE       assert False == True\u001b[0m\n",
      "\n",
      "\u001b[1m\u001b[31mtest_example.py\u001b[0m:15: AssertionError\n",
      "\u001b[36m\u001b[1m=========================== short test summary info ============================\u001b[0m\n",
      "\u001b[31mFAILED\u001b[0m test_example.py::\u001b[1mTestClass::test_classmethod\u001b[0m - assert False == True\n",
      "\u001b[31mFAILED\u001b[0m test_example.py::\u001b[1mTestClass::test_staticmethod\u001b[0m - assert False == True\n",
      "\u001b[31mFAILED\u001b[0m test_example.py::\u001b[1mTestAnotherClass::test_classmethod\u001b[0m - assert False == True\n",
      "\u001b[31mFAILED\u001b[0m test_example.py::\u001b[1mTestAnotherClass::test_staticmethod\u001b[0m - assert False == True\n",
      "\u001b[31m========================= \u001b[31m\u001b[1m4 failed\u001b[0m, \u001b[32m8 passed\u001b[0m\u001b[31m in 0.11s\u001b[0m\u001b[31m ==========================\u001b[0m\n"
     ]
    }
   ],
   "source": [
    "!pytest -v"
   ]
  },
  {
   "cell_type": "code",
   "execution_count": 13,
   "id": "47844287",
   "metadata": {},
   "outputs": [
    {
     "name": "stdout",
     "output_type": "stream",
     "text": [
      "Defaulting to user installation because normal site-packages is not writeable\n",
      "Collecting cython\n",
      "  Downloading Cython-0.29.36-cp310-cp310-manylinux_2_17_x86_64.manylinux2014_x86_64.manylinux_2_24_x86_64.whl (1.9 MB)\n",
      "\u001b[2K     \u001b[38;2;114;156;31m━━━━━━━━━━━━━━━━━━━━━━━━━━━━━━━━━━━━━━━━\u001b[0m \u001b[32m1.9/1.9 MB\u001b[0m \u001b[31m7.0 MB/s\u001b[0m eta \u001b[36m0:00:00\u001b[0mm eta \u001b[36m0:00:01\u001b[0m[36m0:00:01\u001b[0m\n",
      "\u001b[?25hInstalling collected packages: cython\n",
      "Successfully installed cython-0.29.36\n"
     ]
    }
   ],
   "source": [
    "!pip install cython"
   ]
  },
  {
   "cell_type": "markdown",
   "id": "16c59090",
   "metadata": {},
   "source": [
    "Describe bugs."
   ]
  }
 ],
 "metadata": {
  "kernelspec": {
   "display_name": "Python 3 (ipykernel)",
   "language": "python",
   "name": "python3"
  },
  "language_info": {
   "codemirror_mode": {
    "name": "ipython",
    "version": 3
   },
   "file_extension": ".py",
   "mimetype": "text/x-python",
   "name": "python",
   "nbconvert_exporter": "python",
   "pygments_lexer": "ipython3",
   "version": "3.8.10"
  }
 },
 "nbformat": 4,
 "nbformat_minor": 5
}
