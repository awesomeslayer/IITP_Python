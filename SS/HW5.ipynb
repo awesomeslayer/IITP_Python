{
 "cells": [
  {
   "cell_type": "markdown",
   "id": "10db1beb",
   "metadata": {},
   "source": [
    "# Homework 5 - Turtles all the way down\n",
    "\n",
    "## Theory\n",
    "\n",
    "Since anything is an object, it is possible to inspect and manipulate a lot of objects using `__xxx__` fields.\n",
    "\n",
    "### Functions\n",
    "\n",
    "Lets inspect functions:"
   ]
  },
  {
   "cell_type": "code",
   "execution_count": 1,
   "id": "cf47481e",
   "metadata": {},
   "outputs": [
    {
     "data": {
      "text/plain": [
       "['__annotations__',\n",
       " '__builtins__',\n",
       " '__call__',\n",
       " '__class__',\n",
       " '__closure__',\n",
       " '__code__',\n",
       " '__defaults__',\n",
       " '__delattr__',\n",
       " '__dict__',\n",
       " '__dir__',\n",
       " '__doc__',\n",
       " '__eq__',\n",
       " '__format__',\n",
       " '__ge__',\n",
       " '__get__',\n",
       " '__getattribute__',\n",
       " '__globals__',\n",
       " '__gt__',\n",
       " '__hash__',\n",
       " '__init__',\n",
       " '__init_subclass__',\n",
       " '__kwdefaults__',\n",
       " '__le__',\n",
       " '__lt__',\n",
       " '__module__',\n",
       " '__name__',\n",
       " '__ne__',\n",
       " '__new__',\n",
       " '__qualname__',\n",
       " '__reduce__',\n",
       " '__reduce_ex__',\n",
       " '__repr__',\n",
       " '__setattr__',\n",
       " '__sizeof__',\n",
       " '__str__',\n",
       " '__subclasshook__']"
      ]
     },
     "execution_count": 1,
     "metadata": {},
     "output_type": "execute_result"
    }
   ],
   "source": [
    "def f(x: int) -> None:\n",
    "    pass\n",
    "\n",
    "dir(f)"
   ]
  },
  {
   "cell_type": "markdown",
   "id": "001ded0c",
   "metadata": {},
   "source": [
    "There is also a lot of interesting stuff in `f.__code__`."
   ]
  },
  {
   "cell_type": "code",
   "execution_count": 2,
   "id": "68a7a6e6",
   "metadata": {},
   "outputs": [
    {
     "data": {
      "text/plain": [
       "['__class__',\n",
       " '__delattr__',\n",
       " '__dir__',\n",
       " '__doc__',\n",
       " '__eq__',\n",
       " '__format__',\n",
       " '__ge__',\n",
       " '__getattribute__',\n",
       " '__gt__',\n",
       " '__hash__',\n",
       " '__init__',\n",
       " '__init_subclass__',\n",
       " '__le__',\n",
       " '__lt__',\n",
       " '__ne__',\n",
       " '__new__',\n",
       " '__reduce__',\n",
       " '__reduce_ex__',\n",
       " '__repr__',\n",
       " '__setattr__',\n",
       " '__sizeof__',\n",
       " '__str__',\n",
       " '__subclasshook__',\n",
       " 'co_argcount',\n",
       " 'co_cellvars',\n",
       " 'co_code',\n",
       " 'co_consts',\n",
       " 'co_filename',\n",
       " 'co_firstlineno',\n",
       " 'co_flags',\n",
       " 'co_freevars',\n",
       " 'co_kwonlyargcount',\n",
       " 'co_lines',\n",
       " 'co_linetable',\n",
       " 'co_lnotab',\n",
       " 'co_name',\n",
       " 'co_names',\n",
       " 'co_nlocals',\n",
       " 'co_posonlyargcount',\n",
       " 'co_stacksize',\n",
       " 'co_varnames',\n",
       " 'replace']"
      ]
     },
     "execution_count": 2,
     "metadata": {},
     "output_type": "execute_result"
    }
   ],
   "source": [
    "dir(f.__code__)"
   ]
  },
  {
   "cell_type": "code",
   "execution_count": 3,
   "id": "823f2e1b",
   "metadata": {},
   "outputs": [
    {
     "data": {
      "text/plain": [
       "{'x': int, 'return': None}"
      ]
     },
     "execution_count": 3,
     "metadata": {},
     "output_type": "execute_result"
    }
   ],
   "source": [
    "f.__annotations__"
   ]
  },
  {
   "cell_type": "markdown",
   "id": "fc99ec20",
   "metadata": {},
   "source": [
    "`argcount`s in `__code__`contain information about the number of arguments that the function can accept.\n",
    "\n",
    "`default`s contain information about default argument values.\n",
    "\n",
    "Everything defined goes somewhere, including annotations (`__annotations__`) and docstring (`__doc__`).\n",
    "\n",
    "And, of cource, `f.__call__` is used to make a function call."
   ]
  },
  {
   "cell_type": "markdown",
   "id": "38f82100",
   "metadata": {},
   "source": [
    "`inspect` module is used to view this internal data, but it can also be done manually."
   ]
  },
  {
   "cell_type": "code",
   "execution_count": 4,
   "id": "3a360c62",
   "metadata": {},
   "outputs": [
    {
     "name": "stdout",
     "output_type": "stream",
     "text": [
      "(x: int) -> None\n",
      "POSITIONAL_OR_KEYWORD\n"
     ]
    }
   ],
   "source": [
    "import inspect\n",
    "\n",
    "print(inspect.signature(f))\n",
    "print(inspect.signature(f).parameters[\"x\"].kind)"
   ]
  },
  {
   "cell_type": "markdown",
   "id": "f31f30e2",
   "metadata": {},
   "source": [
    "How to define a positional-only and keyword-only arguments?"
   ]
  },
  {
   "cell_type": "code",
   "execution_count": 5,
   "id": "5aab8019",
   "metadata": {},
   "outputs": [],
   "source": [
    "def f(pos, pos2=3, /, pos_w_def=4, pos_w_def3=1, *args, wtf_1=\"wtf\", wtf_2, **kwargs):\n",
    "    print(args)\n",
    "    pass"
   ]
  },
  {
   "cell_type": "markdown",
   "id": "3f3b5b08",
   "metadata": {},
   "source": [
    "Reminder: writing a decorator."
   ]
  },
  {
   "cell_type": "code",
   "execution_count": 6,
   "id": "09b26df3",
   "metadata": {},
   "outputs": [
    {
     "name": "stdout",
     "output_type": "stream",
     "text": [
      "Decorator has been called\n",
      "Decorated function has been called\n",
      "Original function has been called\n"
     ]
    }
   ],
   "source": [
    "def mydecorator(f):\n",
    "    def g(*args, **kwargs):\n",
    "        print(\"Decorated function has been called\")\n",
    "        return f(*args, **kwargs)\n",
    "    print(\"Decorator has been called\")\n",
    "    #return f for unchanged behavior and signature\n",
    "    return g\n",
    "\n",
    "@mydecorator\n",
    "def f():\n",
    "    print(\"Original function has been called\")\n",
    "\n",
    "f()"
   ]
  },
  {
   "cell_type": "markdown",
   "id": "d4e3ccc9",
   "metadata": {},
   "source": [
    "### Classes"
   ]
  },
  {
   "cell_type": "code",
   "execution_count": 7,
   "id": "7b4477d3",
   "metadata": {},
   "outputs": [
    {
     "data": {
      "text/plain": [
       "['__class__',\n",
       " '__delattr__',\n",
       " '__dict__',\n",
       " '__dir__',\n",
       " '__doc__',\n",
       " '__eq__',\n",
       " '__format__',\n",
       " '__ge__',\n",
       " '__getattribute__',\n",
       " '__gt__',\n",
       " '__hash__',\n",
       " '__init__',\n",
       " '__init_subclass__',\n",
       " '__le__',\n",
       " '__lt__',\n",
       " '__module__',\n",
       " '__ne__',\n",
       " '__new__',\n",
       " '__reduce__',\n",
       " '__reduce_ex__',\n",
       " '__repr__',\n",
       " '__setattr__',\n",
       " '__sizeof__',\n",
       " '__str__',\n",
       " '__subclasshook__',\n",
       " '__weakref__']"
      ]
     },
     "execution_count": 7,
     "metadata": {},
     "output_type": "execute_result"
    }
   ],
   "source": [
    "class DummyClass:\n",
    "    def __init__(self):\n",
    "        pass\n",
    "\n",
    "dir(DummyClass)"
   ]
  },
  {
   "cell_type": "code",
   "execution_count": 8,
   "id": "045494ad",
   "metadata": {},
   "outputs": [
    {
     "data": {
      "text/plain": [
       "['__class__',\n",
       " '__delattr__',\n",
       " '__dict__',\n",
       " '__dir__',\n",
       " '__doc__',\n",
       " '__eq__',\n",
       " '__format__',\n",
       " '__ge__',\n",
       " '__getattribute__',\n",
       " '__gt__',\n",
       " '__hash__',\n",
       " '__init__',\n",
       " '__init_subclass__',\n",
       " '__le__',\n",
       " '__lt__',\n",
       " '__module__',\n",
       " '__ne__',\n",
       " '__new__',\n",
       " '__reduce__',\n",
       " '__reduce_ex__',\n",
       " '__repr__',\n",
       " '__setattr__',\n",
       " '__sizeof__',\n",
       " '__str__',\n",
       " '__subclasshook__',\n",
       " '__weakref__']"
      ]
     },
     "execution_count": 8,
     "metadata": {},
     "output_type": "execute_result"
    }
   ],
   "source": [
    "dir(DummyClass())"
   ]
  },
  {
   "cell_type": "markdown",
   "id": "955dfa26",
   "metadata": {},
   "source": [
    "First of all, it is important to understand `__new__` and `__init__`.\n",
    "\n",
    "Use `__new__` when you need to control the creation of a new instance.\n",
    "\n",
    "Use `__init__` when you need to control initialization of a new instance.\n",
    "\n",
    "`__new__` is the first step of instance creation. It's called first, and is responsible for returning a new instance of your class. In contrast, `__init__` doesn't return anything; it's only responsible for initializing the instance after it's been created.\n",
    "\n",
    "In general, you shouldn't need to override `__new__` unless you're subclassing an immutable type like str, int, unicode or tuple."
   ]
  },
  {
   "cell_type": "code",
   "execution_count": null,
   "id": "eaa7af05",
   "metadata": {},
   "outputs": [],
   "source": []
  },
  {
   "cell_type": "markdown",
   "id": "1f16d2d2",
   "metadata": {},
   "source": [
    "## Practice"
   ]
  },
  {
   "cell_type": "markdown",
   "id": "85997317",
   "metadata": {},
   "source": [
    "### 1. inspect_function\n",
    "\n",
    "Write an inspect_function implementation. It should return original function to support decorator-like usage."
   ]
  },
  {
   "cell_type": "code",
   "execution_count": 3,
   "id": "fe6146b5",
   "metadata": {},
   "outputs": [
    {
     "name": "stdout",
     "output_type": "stream",
     "text": [
      "Name: f\n",
      "def f(*, pos3, pos_w_def, pos_w_def3):\n",
      "Arguments:\n",
      "\t2 positional\n",
      "\t\tpos = None\n",
      "\t\tpos2 = None\n",
      "\t3 keyword_only\n",
      "\t\tpos3 = 3\n",
      "\t\tpos_w_def = 4\n",
      "\t\tpos_w_def3 = 1\n",
      "Docstring: None\n",
      "Returns: None\n"
     ]
    }
   ],
   "source": [
    "def inspect_function(f):\n",
    "    print(f\"Name: {f.__name__}\")\n",
    "\n",
    "    # TODO\n",
    "    \n",
    "    return f\n",
    "\n",
    "@inspect_function\n",
    "def f(\n",
    "    pos: float,\n",
    "    pos2,\n",
    "    pos3: int = 3,\n",
    "    /,\n",
    "    pos_w_def: int = 4,\n",
    "    pos_w_def3=1,\n",
    "    *args,\n",
    "    wtf_1: str = \"wtf\",\n",
    "    wtf_2,\n",
    "    **kwargs,\n",
    ") -> None:\n",
    "    pass"
   ]
  },
  {
   "cell_type": "markdown",
   "id": "7fe89afa",
   "metadata": {},
   "source": [
    "**Optional**: make convert all arguments that support both positional and keyword format to keyword-only arguments."
   ]
  },
  {
   "cell_type": "markdown",
   "id": "561da351",
   "metadata": {},
   "source": [
    "### 2. Singletone\n",
    "\n",
    "Make this class a Singletone, and prettify it."
   ]
  },
  {
   "cell_type": "code",
   "execution_count": 10,
   "id": "8f996723",
   "metadata": {},
   "outputs": [
    {
     "name": "stdout",
     "output_type": "stream",
     "text": [
      "Added 2 to 1\n",
      "Added 3 to 3\n",
      "Counter(6)\n",
      "Counter(6)\n"
     ]
    },
    {
     "data": {
      "text/plain": [
       "Counter(6)"
      ]
     },
     "execution_count": 10,
     "metadata": {},
     "output_type": "execute_result"
    }
   ],
   "source": [
    "class Counter:\n",
    "    def __init__(self, start=0):\n",
    "        self.counter = start\n",
    "\n",
    "    def __add__(self, value):\n",
    "        print(f\"Added {value} to {self.counter}\")\n",
    "        self.counter += value\n",
    "        return self\n",
    "\n",
    "\n",
    "print(Counter(1) + 2 + 3)\n",
    "print(f\"{Counter()}\")\n",
    "Counter()"
   ]
  },
  {
   "cell_type": "markdown",
   "id": "8d74e830",
   "metadata": {},
   "source": [
    "## 3. Getters and setters\n",
    "\n",
    "Implement this class without the usage of standard decorators."
   ]
  },
  {
   "cell_type": "code",
   "execution_count": 11,
   "id": "d184c750",
   "metadata": {},
   "outputs": [
    {
     "name": "stdout",
     "output_type": "stream",
     "text": [
      "Setting radius to 2\n"
     ]
    },
    {
     "data": {
      "text/plain": [
       "(2, 12.566370614359172)"
      ]
     },
     "execution_count": 11,
     "metadata": {},
     "output_type": "execute_result"
    }
   ],
   "source": [
    "import numpy as np\n",
    "\n",
    "class Circle:\n",
    "    def __init__(self, radius = 1.0):\n",
    "        self._r = radius\n",
    "    @property\n",
    "    def r(self):\n",
    "        return self._r\n",
    "    @property\n",
    "    def area(self):\n",
    "        return np.pi * self.r * self.r\n",
    "    @r.setter\n",
    "    def r(self, radius):\n",
    "        print(f\"Setting radius to {radius}\")\n",
    "        self._r = radius\n",
    "\n",
    "c = Circle()\n",
    "c.r = 2\n",
    "c.r, c.area"
   ]
  },
  {
   "cell_type": "markdown",
   "id": "9f916779",
   "metadata": {},
   "source": [
    "**Optional**: make your own decorators for properties"
   ]
  }
 ],
 "metadata": {
  "kernelspec": {
   "display_name": "Python 3 (ipykernel)",
   "language": "python",
   "name": "python3"
  },
  "language_info": {
   "codemirror_mode": {
    "name": "ipython",
    "version": 3
   },
   "file_extension": ".py",
   "mimetype": "text/x-python",
   "name": "python",
   "nbconvert_exporter": "python",
   "pygments_lexer": "ipython3",
   "version": "3.11.4"
  }
 },
 "nbformat": 4,
 "nbformat_minor": 5
}
